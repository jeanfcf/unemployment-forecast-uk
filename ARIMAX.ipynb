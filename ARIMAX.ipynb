{
  "nbformat": 4,
  "nbformat_minor": 0,
  "metadata": {
    "colab": {
      "name": "ARIMA.ipynb",
      "provenance": [],
      "authorship_tag": "ABX9TyPGGr5DiE5CP5p4bfcHnLJ4",
      "include_colab_link": true
    },
    "kernelspec": {
      "name": "python3",
      "display_name": "Python 3"
    },
    "language_info": {
      "name": "python"
    }
  },
  "cells": [
    {
      "cell_type": "markdown",
      "metadata": {
        "id": "view-in-github",
        "colab_type": "text"
      },
      "source": [
        "<a href=\"https://colab.research.google.com/github/jeanfcf/unemployment-forecast-uk/blob/arimax/ARIMAX.ipynb\" target=\"_parent\"><img src=\"https://colab.research.google.com/assets/colab-badge.svg\" alt=\"Open In Colab\"/></a>"
      ]
    },
    {
      "cell_type": "markdown",
      "metadata": {
        "id": "9wd881Dz2m8T"
      },
      "source": [
        "### ARIMAX\n"
      ]
    },
    {
      "cell_type": "code",
      "metadata": {
        "colab": {
          "base_uri": "https://localhost:8080/",
          "height": 272
        },
        "id": "DtWcaGq02m8T",
        "outputId": "09c81de9-cb3c-438d-f299-f998e691efb0"
      },
      "source": [
        "dateparse = lambda dates: pd.datetime.strptime(dates,'%Y-%m')\n",
        "data = pd.read_csv('/content/drive/MyDrive/Datasets/UK/UK-dataset.csv',parse_dates=['ANO'], index_col='ANO',date_parser=dateparse)\n",
        "data = data.drop(['CASOS'], 1)\n",
        "data = data.drop(['MORTES'], 1)\n",
        "data = data.drop(['INFLACAO'], 1)\n",
        "data = data.drop(['BANKRATE'], 1)\n",
        "data = data.drop(['GDP'], 1)\n",
        "data = data.drop(['LIBRA'], 1)\n",
        "data.head()"
      ],
      "execution_count": 17,
      "outputs": [
        {
          "output_type": "stream",
          "name": "stderr",
          "text": [
            "/usr/local/lib/python3.7/dist-packages/ipykernel_launcher.py:1: FutureWarning: The pandas.datetime class is deprecated and will be removed from pandas in a future version. Import from datetime module instead.\n",
            "  \"\"\"Entry point for launching an IPython kernel.\n"
          ]
        },
        {
          "output_type": "execute_result",
          "data": {
            "text/html": [
              "<div>\n",
              "<style scoped>\n",
              "    .dataframe tbody tr th:only-of-type {\n",
              "        vertical-align: middle;\n",
              "    }\n",
              "\n",
              "    .dataframe tbody tr th {\n",
              "        vertical-align: top;\n",
              "    }\n",
              "\n",
              "    .dataframe thead th {\n",
              "        text-align: right;\n",
              "    }\n",
              "</style>\n",
              "<table border=\"1\" class=\"dataframe\">\n",
              "  <thead>\n",
              "    <tr style=\"text-align: right;\">\n",
              "      <th></th>\n",
              "      <th>DESEMPREGO</th>\n",
              "    </tr>\n",
              "    <tr>\n",
              "      <th>ANO</th>\n",
              "      <th></th>\n",
              "    </tr>\n",
              "  </thead>\n",
              "  <tbody>\n",
              "    <tr>\n",
              "      <th>1997-01-01</th>\n",
              "      <td>7.5</td>\n",
              "    </tr>\n",
              "    <tr>\n",
              "      <th>1997-02-01</th>\n",
              "      <td>7.3</td>\n",
              "    </tr>\n",
              "    <tr>\n",
              "      <th>1997-03-01</th>\n",
              "      <td>7.2</td>\n",
              "    </tr>\n",
              "    <tr>\n",
              "      <th>1997-04-01</th>\n",
              "      <td>7.2</td>\n",
              "    </tr>\n",
              "    <tr>\n",
              "      <th>1997-05-01</th>\n",
              "      <td>7.2</td>\n",
              "    </tr>\n",
              "  </tbody>\n",
              "</table>\n",
              "</div>"
            ],
            "text/plain": [
              "            DESEMPREGO\n",
              "ANO                   \n",
              "1997-01-01         7.5\n",
              "1997-02-01         7.3\n",
              "1997-03-01         7.2\n",
              "1997-04-01         7.2\n",
              "1997-05-01         7.2"
            ]
          },
          "metadata": {},
          "execution_count": 17
        }
      ]
    },
    {
      "cell_type": "code",
      "metadata": {
        "colab": {
          "base_uri": "https://localhost:8080/",
          "height": 272
        },
        "id": "OvtoqCkK5JZo",
        "outputId": "9eb6b661-891c-4947-833b-a4947091d565"
      },
      "source": [
        "exogenous = pd.read_csv('/content/drive/MyDrive/Datasets/UK/UK-dataset.csv',parse_dates=['ANO'], index_col='ANO',date_parser=dateparse)\n",
        "exogenous = exogenous.drop(['CASOS'], 1)\n",
        "exogenous = exogenous.drop(['MORTES'], 1)\n",
        "exogenous = exogenous.drop(['DESEMPREGO'], 1)\n",
        "exogenous.head()"
      ],
      "execution_count": 18,
      "outputs": [
        {
          "output_type": "stream",
          "name": "stderr",
          "text": [
            "/usr/local/lib/python3.7/dist-packages/ipykernel_launcher.py:1: FutureWarning: The pandas.datetime class is deprecated and will be removed from pandas in a future version. Import from datetime module instead.\n",
            "  \"\"\"Entry point for launching an IPython kernel.\n"
          ]
        },
        {
          "output_type": "execute_result",
          "data": {
            "text/html": [
              "<div>\n",
              "<style scoped>\n",
              "    .dataframe tbody tr th:only-of-type {\n",
              "        vertical-align: middle;\n",
              "    }\n",
              "\n",
              "    .dataframe tbody tr th {\n",
              "        vertical-align: top;\n",
              "    }\n",
              "\n",
              "    .dataframe thead th {\n",
              "        text-align: right;\n",
              "    }\n",
              "</style>\n",
              "<table border=\"1\" class=\"dataframe\">\n",
              "  <thead>\n",
              "    <tr style=\"text-align: right;\">\n",
              "      <th></th>\n",
              "      <th>INFLACAO</th>\n",
              "      <th>BANKRATE</th>\n",
              "      <th>GDP</th>\n",
              "      <th>LIBRA</th>\n",
              "    </tr>\n",
              "    <tr>\n",
              "      <th>ANO</th>\n",
              "      <th></th>\n",
              "      <th></th>\n",
              "      <th></th>\n",
              "      <th></th>\n",
              "    </tr>\n",
              "  </thead>\n",
              "  <tbody>\n",
              "    <tr>\n",
              "      <th>1997-01-01</th>\n",
              "      <td>2.6</td>\n",
              "      <td>5.94</td>\n",
              "      <td>64.3701</td>\n",
              "      <td>1.6757</td>\n",
              "    </tr>\n",
              "    <tr>\n",
              "      <th>1997-02-01</th>\n",
              "      <td>2.4</td>\n",
              "      <td>5.94</td>\n",
              "      <td>65.2410</td>\n",
              "      <td>1.7126</td>\n",
              "    </tr>\n",
              "    <tr>\n",
              "      <th>1997-03-01</th>\n",
              "      <td>2.2</td>\n",
              "      <td>5.94</td>\n",
              "      <td>65.5841</td>\n",
              "      <td>1.7383</td>\n",
              "    </tr>\n",
              "    <tr>\n",
              "      <th>1997-04-01</th>\n",
              "      <td>2.1</td>\n",
              "      <td>5.94</td>\n",
              "      <td>65.7258</td>\n",
              "      <td>1.7268</td>\n",
              "    </tr>\n",
              "    <tr>\n",
              "      <th>1997-05-01</th>\n",
              "      <td>2.1</td>\n",
              "      <td>6.25</td>\n",
              "      <td>65.2434</td>\n",
              "      <td>1.7564</td>\n",
              "    </tr>\n",
              "  </tbody>\n",
              "</table>\n",
              "</div>"
            ],
            "text/plain": [
              "            INFLACAO  BANKRATE      GDP   LIBRA\n",
              "ANO                                            \n",
              "1997-01-01       2.6      5.94  64.3701  1.6757\n",
              "1997-02-01       2.4      5.94  65.2410  1.7126\n",
              "1997-03-01       2.2      5.94  65.5841  1.7383\n",
              "1997-04-01       2.1      5.94  65.7258  1.7268\n",
              "1997-05-01       2.1      6.25  65.2434  1.7564"
            ]
          },
          "metadata": {},
          "execution_count": 18
        }
      ]
    },
    {
      "cell_type": "code",
      "metadata": {
        "colab": {
          "base_uri": "https://localhost:8080/"
        },
        "id": "SihCHjt82m8U",
        "outputId": "cb4b5582-afa1-41c1-a3db-7846619ddb07"
      },
      "source": [
        "prmodel = auto_arima(data,X=exogenous,m=12,trace=3,error_action='ignore',suppress_warnings=True)"
      ],
      "execution_count": 19,
      "outputs": [
        {
          "output_type": "stream",
          "name": "stdout",
          "text": [
            "Performing stepwise search to minimize aic\n",
            " ARIMA(2,1,2)(1,0,1)[12] intercept   : AIC=-562.354, Time=2.87 sec\n",
            "First viable model found (-562.354)\n",
            " ARIMA(0,1,0)(0,0,0)[12] intercept   : AIC=-512.593, Time=0.19 sec\n",
            " ARIMA(1,1,0)(1,0,0)[12] intercept   : AIC=-544.066, Time=1.81 sec\n",
            " ARIMA(0,1,1)(0,0,1)[12] intercept   : AIC=-531.051, Time=1.23 sec\n",
            " ARIMA(0,1,0)(0,0,0)[12]             : AIC=-510.613, Time=0.23 sec\n",
            " ARIMA(2,1,2)(0,0,1)[12] intercept   : AIC=-563.188, Time=2.34 sec\n",
            "New best model found (-563.188 < -562.354)\n",
            " ARIMA(2,1,2)(0,0,0)[12] intercept   : AIC=-558.450, Time=1.07 sec\n",
            " ARIMA(2,1,2)(0,0,2)[12] intercept   : AIC=-562.794, Time=5.99 sec\n",
            " ARIMA(2,1,2)(1,0,0)[12] intercept   : AIC=-561.911, Time=2.68 sec\n",
            " ARIMA(2,1,2)(1,0,2)[12] intercept   : AIC=-561.542, Time=6.87 sec\n",
            " ARIMA(1,1,2)(0,0,1)[12] intercept   : AIC=-564.107, Time=2.28 sec\n",
            "New best model found (-564.107 < -563.188)\n",
            " ARIMA(1,1,2)(0,0,0)[12] intercept   : AIC=-560.385, Time=1.06 sec\n",
            " ARIMA(1,1,2)(1,0,1)[12] intercept   : AIC=-562.911, Time=2.73 sec\n",
            " ARIMA(1,1,2)(0,0,2)[12] intercept   : AIC=-562.301, Time=5.84 sec\n",
            " ARIMA(1,1,2)(1,0,0)[12] intercept   : AIC=-561.423, Time=2.35 sec\n",
            " ARIMA(1,1,2)(1,0,2)[12] intercept   : AIC=-560.423, Time=6.27 sec\n",
            " ARIMA(0,1,2)(0,0,1)[12] intercept   : AIC=-544.851, Time=1.45 sec\n",
            " ARIMA(1,1,1)(0,0,1)[12] intercept   : AIC=-565.999, Time=2.17 sec\n",
            "New best model found (-565.999 < -564.107)\n",
            " ARIMA(1,1,1)(0,0,0)[12] intercept   : AIC=-562.425, Time=0.84 sec\n",
            " ARIMA(1,1,1)(1,0,1)[12] intercept   : AIC=-562.610, Time=2.51 sec\n",
            " ARIMA(1,1,1)(0,0,2)[12] intercept   : AIC=-564.542, Time=5.35 sec\n",
            " ARIMA(1,1,1)(1,0,0)[12] intercept   : AIC=-563.962, Time=2.05 sec\n",
            " ARIMA(1,1,1)(1,0,2)[12] intercept   : AIC=-563.777, Time=5.74 sec\n",
            " ARIMA(1,1,0)(0,0,1)[12] intercept   : AIC=-544.146, Time=1.40 sec\n",
            " ARIMA(2,1,1)(0,0,1)[12] intercept   : AIC=-563.797, Time=2.51 sec\n",
            " ARIMA(0,1,0)(0,0,1)[12] intercept   : AIC=-510.608, Time=0.93 sec\n",
            " ARIMA(2,1,0)(0,0,1)[12] intercept   : AIC=-557.162, Time=1.80 sec\n",
            " ARIMA(1,1,1)(0,0,1)[12]             : AIC=-568.696, Time=1.96 sec\n",
            "New best model found (-568.696 < -565.999)\n",
            " ARIMA(1,1,1)(0,0,0)[12]             : AIC=-563.842, Time=0.88 sec\n",
            " ARIMA(1,1,1)(1,0,1)[12]             : AIC=-570.957, Time=2.58 sec\n",
            "New best model found (-570.957 < -568.696)\n",
            " ARIMA(1,1,1)(1,0,0)[12]             : AIC=-567.384, Time=1.83 sec\n",
            " ARIMA(1,1,1)(2,0,1)[12]             : AIC=-568.049, Time=5.17 sec\n",
            " ARIMA(1,1,1)(1,0,2)[12]             : AIC=-568.089, Time=5.72 sec\n",
            " ARIMA(1,1,1)(0,0,2)[12]             : AIC=-569.164, Time=4.97 sec\n",
            " ARIMA(1,1,1)(2,0,0)[12]             : AIC=-567.423, Time=4.50 sec\n",
            " ARIMA(1,1,1)(2,0,2)[12]             : AIC=-567.826, Time=6.28 sec\n",
            " ARIMA(0,1,1)(1,0,1)[12]             : AIC=-528.584, Time=2.17 sec\n",
            " ARIMA(1,1,0)(1,0,1)[12]             : AIC=-542.655, Time=1.16 sec\n",
            " ARIMA(2,1,1)(1,0,1)[12]             : AIC=-569.435, Time=2.45 sec\n",
            " ARIMA(1,1,2)(1,0,1)[12]             : AIC=-568.521, Time=2.34 sec\n",
            " ARIMA(0,1,0)(1,0,1)[12]             : AIC=-506.800, Time=1.59 sec\n",
            " ARIMA(0,1,2)(1,0,1)[12]             : AIC=-543.053, Time=0.95 sec\n",
            " ARIMA(2,1,0)(1,0,1)[12]             : AIC=-558.720, Time=2.53 sec\n",
            " ARIMA(2,1,2)(1,0,1)[12]             : AIC=-564.096, Time=2.61 sec\n",
            "\n",
            "Best model:  ARIMA(1,1,1)(1,0,1)[12]          \n",
            "Total fit time: 122.402 seconds\n"
          ]
        }
      ]
    },
    {
      "cell_type": "code",
      "metadata": {
        "colab": {
          "base_uri": "https://localhost:8080/"
        },
        "id": "0sZKNbLrZTM9",
        "outputId": "9e834dea-17b5-4955-d463-e32efab9124f"
      },
      "source": [
        "prmodel.aic()"
      ],
      "execution_count": 21,
      "outputs": [
        {
          "output_type": "execute_result",
          "data": {
            "text/plain": [
              "-570.9574653692199"
            ]
          },
          "metadata": {},
          "execution_count": 21
        }
      ]
    },
    {
      "cell_type": "code",
      "metadata": {
        "id": "t456bA592m8U"
      },
      "source": [
        "train = data.loc['1997-01-01':'2016-12-01']\n",
        "test = data.loc['2017-01-01':]"
      ],
      "execution_count": 22,
      "outputs": []
    },
    {
      "cell_type": "code",
      "metadata": {
        "id": "4dpYgfLJ52GA"
      },
      "source": [
        "xtrain = exogenous.loc['1997-01-01':'2016-12-01']\n",
        "xtest = exogenous.loc['2017-01-01':]"
      ],
      "execution_count": 23,
      "outputs": []
    },
    {
      "cell_type": "code",
      "metadata": {
        "colab": {
          "base_uri": "https://localhost:8080/"
        },
        "id": "qMOsv3az2m8U",
        "outputId": "50006930-88f3-48f8-c0e5-75ad23ddc3c7"
      },
      "source": [
        "prmodel.fit(train,X=xtrain)"
      ],
      "execution_count": 24,
      "outputs": [
        {
          "output_type": "execute_result",
          "data": {
            "text/plain": [
              "ARIMA(order=(1, 1, 1), scoring_args={}, seasonal_order=(1, 0, 1, 12),\n",
              "      suppress_warnings=True, with_intercept=False)"
            ]
          },
          "metadata": {},
          "execution_count": 24
        }
      ]
    },
    {
      "cell_type": "code",
      "metadata": {
        "id": "-aynIMgW2m8U"
      },
      "source": [
        "xforecast = prmodel.predict(n_periods=51,X=xtest)"
      ],
      "execution_count": 25,
      "outputs": []
    },
    {
      "cell_type": "code",
      "metadata": {
        "id": "xCUKgKp_2m8U"
      },
      "source": [
        "xfuture = pd.DataFrame(xforecast,index=test.index,columns=['#DESEMPREGO'])"
      ],
      "execution_count": 26,
      "outputs": []
    },
    {
      "cell_type": "code",
      "metadata": {
        "colab": {
          "base_uri": "https://localhost:8080/",
          "height": 405
        },
        "id": "MFVI-_tM2m8U",
        "outputId": "02fa174c-88c1-4055-d7cd-0b21b4c20940"
      },
      "source": [
        "pd.concat([test,xfuture],axis=1).plot()"
      ],
      "execution_count": 27,
      "outputs": [
        {
          "output_type": "execute_result",
          "data": {
            "text/plain": [
              "<matplotlib.axes._subplots.AxesSubplot at 0x7fdac0fa8b10>"
            ]
          },
          "metadata": {},
          "execution_count": 27
        },
        {
          "output_type": "display_data",
          "data": {
            "image/png": "[encoded data removed]",
            "text/plain": [
              "<Figure size 1080x432 with 1 Axes>"
            ]
          },
          "metadata": {
            "needs_background": "light"
          }
        }
      ]
    },
    {
      "cell_type": "code",
      "metadata": {
        "colab": {
          "base_uri": "https://localhost:8080/",
          "height": 405
        },
        "id": "e5BohC152m8U",
        "outputId": "9f18e255-62a9-45d4-d754-8827f04415be"
      },
      "source": [
        "pd.concat([data,xfuture],axis=1).plot()"
      ],
      "execution_count": 28,
      "outputs": [
        {
          "output_type": "execute_result",
          "data": {
            "text/plain": [
              "<matplotlib.axes._subplots.AxesSubplot at 0x7fdac10a0b10>"
            ]
          },
          "metadata": {},
          "execution_count": 28
        },
        {
          "output_type": "display_data",
          "data": {
            "image/png": "[encoded data removed]",
            "text/plain": [
              "<Figure size 1080x432 with 1 Axes>"
            ]
          },
          "metadata": {
            "needs_background": "light"
          }
        }
      ]
    },
    {
      "cell_type": "code",
      "metadata": {
        "colab": {
          "base_uri": "https://localhost:8080/"
        },
        "id": "zGdIIMz2ZkTX",
        "outputId": "9e4c9e0d-3de0-483f-bee9-d67f8a2a02ff"
      },
      "source": [
        "def mape(Y_actual,Y_Predicted):\n",
        "    mape = np.mean(np.abs((Y_Predicted - Y_actual)/Y_Predicted))*100\n",
        "    return mape\n",
        "mse = mean_squared_error(test,xfuture)\n",
        "rmse = np.sqrt(mse)\n",
        "mae = metrics.mean_absolute_error(test,xfuture)\n",
        "mape = mape(test,xfuture)\n",
        "r2 = metrics.r2_score(test,xfuture)\n",
        "print(\"MAE\", mae)\n",
        "print(\"MSE:\", mse)\n",
        "print(\"RMSE:\", rmse)\n",
        "print(\"MAPE:\", mape)\n",
        "print(\"R-Squared:\", r2)"
      ],
      "execution_count": 31,
      "outputs": [
        {
          "output_type": "stream",
          "name": "stdout",
          "text": [
            "MAE 0.44803082046485415\n",
            "MSE: 0.2699264241848266\n",
            "RMSE: 0.5195444390856537\n",
            "MAPE: #DESEMPREGO   NaN\n",
            "DESEMPREGO    NaN\n",
            "dtype: float64\n",
            "R-Squared: -1.034656666390581\n"
          ]
        }
      ]
    },
    {
      "cell_type": "code",
      "metadata": {
        "id": "v4WxcAWdb35K"
      },
      "source": [
        "def mape(Y_actual,Y_Predicted):\n",
        "    mape = np.mean(np.abs((Y_Predicted - Y_actual)/Y_Predicted))*100\n",
        "    return mape\n",
        "mse = mean_squared_error(test.DESEMPREGO,preds_svr)\n",
        "rmse = np.sqrt(mse)\n",
        "mae = metrics.mean_absolute_error(test.DESEMPREGO,preds_svr)\n",
        "mape = mape(test.DESEMPREGO,preds_svr)\n",
        "r2 = metrics.r2_score(test.DESEMPREGO,preds_svr)\n",
        "print(\"MAE\", mae)\n",
        "print(\"MSE:\", mse)\n",
        "print(\"RMSE:\", rmse)\n",
        "print(\"MAPE:\", mape)\n",
        "print(\"R-Squared:\", r2)"
      ],
      "execution_count": null,
      "outputs": []
    },
    {
      "cell_type": "code",
      "metadata": {
        "id": "TYIgmvYVb35I",
        "outputId": "b342f2d0-d63b-45e2-9757-976c73a8a798",
        "colab": {
          "base_uri": "https://localhost:8080/"
        }
      },
      "source": [
        "import pandas as pd\n",
        "import numpy as np\n",
        "import seaborn as sns\n",
        "from matplotlib import pyplot as plt\n",
        "import statsmodels as sm\n",
        "import statsmodels.api as sm\n",
        "from statsmodels.tsa.stattools import adfuller\n",
        "from statsmodels.tsa.seasonal import seasonal_decompose\n",
        "from statsmodels.tsa.arima_model import ARIMA\n",
        "from sklearn.model_selection import train_test_split\n",
        "from sklearn.linear_model import LinearRegression\n",
        "from sklearn.model_selection import cross_val_score\n",
        "from sklearn.model_selection import train_test_split\n",
        "from sklearn.preprocessing import MinMaxScaler\n",
        "from sklearn.svm import SVR\n",
        "from sklearn.model_selection import GridSearchCV, cross_validate\n",
        "from sklearn.utils import shuffle\n",
        "from sklearn.metrics import r2_score,mean_squared_error\n",
        "import sklearn.metrics as metrics\n",
        "from sklearn import preprocessing, svm\n",
        "import math\n",
        "import matplotlib\n",
        "from pandas import read_csv\n",
        "from pandas import datetime\n",
        "from sklearn.metrics import mean_absolute_error\n",
        "from pandas import concat\n",
        "from pandas import DataFrame\n",
        "%load_ext rpy2.ipython\n",
        "import warnings\n",
        "%matplotlib inline\n",
        "from matplotlib.pylab import rcParams\n",
        "rcParams['figure.figsize'] = 15,6 \n",
        "from pmdarima.arima import auto_arima\n",
        "warnings.filterwarnings(\"ignore\")"
      ],
      "execution_count": 30,
      "outputs": [
        {
          "output_type": "stream",
          "name": "stderr",
          "text": [
            "/usr/local/lib/python3.7/dist-packages/ipykernel_launcher.py:24: FutureWarning: The pandas.datetime class is deprecated and will be removed from pandas in a future version. Import from datetime module instead.\n"
          ]
        }
      ]
    }
  ]
}